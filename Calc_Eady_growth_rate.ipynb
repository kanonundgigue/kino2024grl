{
 "cells": [
  {
   "cell_type": "markdown",
   "id": "d2aab204-9ba9-4669-8f85-a5e8161f7eb6",
   "metadata": {},
   "source": [
    "# Computing Eady Growth Rate\n",
    "Following functions are modified after ESMValTool.\n",
    "https://docs.esmvaltool.org/en/v2.5.0/recipes/recipe_eady_growth_rate.html"
   ]
  },
  {
   "cell_type": "markdown",
   "id": "7f719b8c-12be-4162-b255-14db12ddfb04",
   "metadata": {},
   "source": [
    "Analyses were done by using daily data to avoid the bias reported by Simmonds and Lim (2009)\n",
    "https://agupubs.onlinelibrary.wiley.com/doi/full/10.1029/2008GL036320"
   ]
  },
  {
   "cell_type": "code",
   "execution_count": 1,
   "id": "925d6114-7f6a-4c89-9981-6b943089a5ac",
   "metadata": {
    "execution": {
     "iopub.execute_input": "2023-11-26T08:38:17.767212Z",
     "iopub.status.busy": "2023-11-26T08:38:17.766701Z",
     "iopub.status.idle": "2023-11-26T08:38:21.266480Z",
     "shell.execute_reply": "2023-11-26T08:38:21.265861Z",
     "shell.execute_reply.started": "2023-11-26T08:38:17.767174Z"
    }
   },
   "outputs": [],
   "source": [
    "\"\"\"Diagnostic for PRIMAVERA Eady Growth Rate.\"\"\"\n",
    "import logging\n",
    "import os\n",
    "import sys\n",
    "import command as cmd\n",
    "import cartopy.crs as ccrs\n",
    "import iris\n",
    "import iris.analysis\n",
    "import iris.cube\n",
    "import iris.quickplot as qplt\n",
    "import iris.util\n",
    "import matplotlib.pyplot as plt\n",
    "import numpy as np\n",
    "from dask import array as da\n",
    "from esmvalcore.preprocessor import (\n",
    "    annual_statistics,\n",
    "    extract_levels,\n",
    "    regrid,\n",
    "    seasonal_statistics,\n",
    ")\n",
    "\n",
    "from esmvaltool.diag_scripts.shared import (\n",
    "    ProvenanceLogger,\n",
    "    group_metadata,\n",
    "    names,\n",
    "    run_diagnostic,\n",
    ")\n",
    "\n",
    "logger = logging.getLogger().setLevel(\"Info\".upper())"
   ]
  },
  {
   "cell_type": "code",
   "execution_count": 6,
   "id": "aca1c6fa-9196-4bd0-ad0f-29bcb0ef44bb",
   "metadata": {
    "execution": {
     "iopub.execute_input": "2023-11-26T08:39:33.776071Z",
     "iopub.status.busy": "2023-11-26T08:39:33.775368Z",
     "iopub.status.idle": "2023-11-26T08:39:33.819696Z",
     "shell.execute_reply": "2023-11-26T08:39:33.818681Z",
     "shell.execute_reply.started": "2023-11-26T08:39:33.776018Z"
    }
   },
   "outputs": [],
   "source": [
    "class EadyGrowthRate:\n",
    "    \"\"\"Class used to compute the Eady Growth Rate.\"\"\"\n",
    "\n",
    "    def __init__(self, config):\n",
    "        \"\"\"\n",
    "        Set diagnostic parameters and constants.\n",
    "\n",
    "        Parameters\n",
    "        ----------\n",
    "            config : dict\n",
    "                Dictionary containing configuration settings.\n",
    "        \"\"\"\n",
    "        self.cfg = config\n",
    "        self.fill_value = 1e20\n",
    "        \"\"\"Fill Value.\"\"\"\n",
    "        self.ref_p = 1000.0\n",
    "        \"\"\"Reference Pressure [Pa].\"\"\"\n",
    "        self.gravity = 9.80665\n",
    "        \"\"\"Gravity [m/s].\"\"\"\n",
    "        self.con = 0.3098\n",
    "        \"\"\"Constant.\"\"\"\n",
    "        self.omega = 7.292e-5\n",
    "        \"\"\"Rotation of the Earth [rad/s].\"\"\"\n",
    "        self.time_statistic = self.cfg['time_statistic']\n",
    "        \"\"\"Time statistic to perform.\"\"\"\n",
    "        self.input_dir = self.cfg['input_dir']\n",
    "\n",
    "    def compute(self):\n",
    "        \"\"\"Compute Eady Growth Rate and either it's annual or seasonal mean.\"\"\"\n",
    "        temperature = iris.load_cube(f\"{self.input_dir}/T.nc\", 'ta')\n",
    "        plev = temperature.coord('air_pressure')\n",
    "    \n",
    "        theta = self.potential_temperature(temperature, plev)\n",
    "        del temperature\n",
    "    \n",
    "        geopotential = iris.load_cube(f\"{self.input_dir}/z.nc\", 'zg')\n",
    "        brunt = self.brunt_vaisala_frq(theta, geopotential)\n",
    "    \n",
    "        lats = geopotential.coord('latitude')\n",
    "        fcor = self.coriolis(lats, geopotential.shape)\n",
    "    \n",
    "        eastward_wind = iris.load_cube(f\"{self.input_dir}/u.nc\", 'ua')\n",
    "        if eastward_wind.shape is not geopotential.shape:\n",
    "            eastward_wind = regrid(eastward_wind, geopotential, scheme='linear')\n",
    "    \n",
    "        egr = self.eady_growth_rate(fcor, eastward_wind, geopotential, brunt)\n",
    "    \n",
    "        cube_egr = eastward_wind.copy(egr * 86400)\n",
    "        cube_egr.standard_name = None\n",
    "        cube_egr.long_name = 'eady_growth_rate'\n",
    "        cube_egr.var_name = 'egr'\n",
    "        cube_egr.units = 'day-1'\n",
    "    \n",
    "        # 時間統計の処理\n",
    "        if self.time_statistic == 'annual_mean':\n",
    "            cube_egr = annual_statistics(cube_egr)\n",
    "            cube_egr = cube_egr.collapsed('time', iris.analysis.MEAN)\n",
    "        elif self.time_statistic == 'seasonal_mean':\n",
    "            cube_egr = seasonal_statistics(cube_egr)\n",
    "            cube_egr = cube_egr.collapsed('time', iris.analysis.MEAN)\n",
    "            self.seasonal_plots(cube_egr)  # alias引数を削除\n",
    "        else:\n",
    "            logger.info(\"Parameter time_statistic is not well set in the recipe.\"\n",
    "                        \"Must be 'annual_mean' or 'seasonal_mean'\")\n",
    "            sys.exit()\n",
    "    \n",
    "        self.save(cube_egr)  # dataとalias引数を削除\n",
    "\n",
    "\n",
    "    def potential_temperature(self, temperature, plev):\n",
    "        \"\"\"Compute potential temperature.\n",
    "\n",
    "        Parameters\n",
    "        ----------\n",
    "        temperature: iris.cube.Cube\n",
    "            Cube of air temperature ta.\n",
    "        plev: iris.coords.Coord\n",
    "            Pressure level coordinates\n",
    "\n",
    "        Returns\n",
    "        -------\n",
    "        theta: iris.cube.Cube\n",
    "            Cube of potential temperature theta.\n",
    "        \"\"\"\n",
    "        reference_pressure = iris.coords.AuxCoord(\n",
    "            self.ref_p, long_name='reference_pressure', units='hPa')\n",
    "        reference_pressure.convert_units(plev.units)\n",
    "        pressure = (reference_pressure.points / plev.points)**(2 / 7)\n",
    "        theta = temperature * iris.util.broadcast_to_shape(\n",
    "            pressure, temperature.shape,\n",
    "            temperature.coord_dims('air_pressure'))\n",
    "        theta.long_name = 'potential_air_temperature'\n",
    "\n",
    "        return theta\n",
    "\n",
    "    @staticmethod\n",
    "    def vertical_integration(var_x, var_y):\n",
    "        \"\"\"\n",
    "        Vertical integration.\n",
    "\n",
    "        Perform a non-cyclic centered finite-difference to integrate\n",
    "        variable x with respect to variable y along pressure levels.\n",
    "\n",
    "        Parameters\n",
    "        ----------\n",
    "        x: iris.cube.Cube\n",
    "            Cube of variable x.\n",
    "        y: iris.cube.Cube\n",
    "            Cube of variable y.\n",
    "\n",
    "        Returns\n",
    "        -------\n",
    "        dxdy: iris.cube.Cube\n",
    "            Cube of variable integrated along pressure levels.\n",
    "        \"\"\"\n",
    "        plevs = var_x.shape[1]\n",
    "\n",
    "        dxdy_0 = (\n",
    "            (var_x[:, 1, :, :].lazy_data() - var_x[:, 0, :, :].lazy_data()) /\n",
    "            (var_y[:, 1, :, :].lazy_data() - var_y[:, 0, :, :].lazy_data()))\n",
    "\n",
    "        dxdy_centre = ((var_x[:, 2:plevs, :, :].lazy_data() -\n",
    "                        var_x[:, 0:plevs - 2, :, :].lazy_data()) /\n",
    "                       (var_y[:, 2:plevs, :, :].lazy_data() -\n",
    "                        var_y[:, 0:plevs - 2, :, :].lazy_data()))\n",
    "\n",
    "        dxdy_end = ((var_x[:, plevs - 1, :, :].lazy_data() -\n",
    "                     var_x[:, plevs - 2, :, :].lazy_data()) /\n",
    "                    (var_y[:, plevs - 1, :, :].lazy_data() -\n",
    "                     var_y[:, plevs - 2, :, :].lazy_data()))\n",
    "\n",
    "        bounds = [dxdy_end, dxdy_0]\n",
    "        stacked_bounds = da.stack(bounds, axis=1)\n",
    "        total = [dxdy_centre, stacked_bounds]\n",
    "\n",
    "        # Concatenate arrays where the last slice is dxdy_0\n",
    "        dxdy = da.concatenate(total, axis=1)\n",
    "\n",
    "        # Move dxdy_0 to the beggining of the array\n",
    "        dxdy = da.roll(dxdy, 1, axis=1)\n",
    "\n",
    "        return dxdy\n",
    "\n",
    "    def brunt_vaisala_frq(self, theta, geopotential):\n",
    "        \"\"\"Compute Brunt-Väisälä frequency.\n",
    "\n",
    "        Parameters\n",
    "        ----------\n",
    "        theta: iris.cube.Cube\n",
    "            Cube of potential temperature.\n",
    "        geopotential: iris.cube.Cube\n",
    "            Cube of variable zg.\n",
    "\n",
    "        Returns\n",
    "        -------\n",
    "        brunt: da.array\n",
    "            Array containing Brunt-Väisälä frequency.\n",
    "        \"\"\"\n",
    "        dthdz = self.vertical_integration(theta, geopotential)\n",
    "        dthdz = da.where(dthdz > 0, dthdz, 0)\n",
    "        buoy = (self.gravity / theta.lazy_data()) * dthdz\n",
    "        brunt = da.sqrt(buoy)\n",
    "        brunt = da.where(brunt != 0, brunt, self.fill_value)\n",
    "\n",
    "        return brunt\n",
    "\n",
    "    def coriolis(self, lats, ndim):\n",
    "        \"\"\"Compute Coriolis force.\n",
    "\n",
    "        Parameters\n",
    "        ----------\n",
    "        lats: iris.coord.Coord\n",
    "            Latitude coordinate.\n",
    "        ndim: int\n",
    "            Number of dimension.\n",
    "\n",
    "        Returns\n",
    "        -------\n",
    "        fcor: da.array\n",
    "            Array containing Coriolis force.\n",
    "        \"\"\"\n",
    "        fcor = 2.0 * self.omega * np.sin(np.radians(lats.points))\n",
    "        fcor = fcor[np.newaxis, np.newaxis, :, np.newaxis]\n",
    "        fcor = da.broadcast_to(fcor, ndim)\n",
    "\n",
    "        return fcor\n",
    "\n",
    "    def eady_growth_rate(self, fcor, eastward_wind, geopotential, brunt):\n",
    "        \"\"\"Compute Eady Growth Rate.\n",
    "\n",
    "        Parameters\n",
    "        ----------\n",
    "        fcor: da.array\n",
    "            Array containing Coriolis force.\n",
    "        eastward_wind: iris.cube.Cube\n",
    "            Cube containing variable ua.\n",
    "        geopotential: iris.cube.Cube\n",
    "            Cube containing variable zg.\n",
    "        brunt: da.array\n",
    "            Array containing Brunt-Väisäla frequency\n",
    "\n",
    "        Returns\n",
    "        -------\n",
    "        egr: da.array\n",
    "            Array containing Eady Growth Rate.\n",
    "        \"\"\"\n",
    "        dudz = self.vertical_integration(eastward_wind, geopotential)\n",
    "        egr = self.con * abs(fcor) * abs(dudz) / brunt\n",
    "\n",
    "        return egr\n",
    "\n",
    "    def seasonal_plots(self, egr):\n",
    "        \"\"\"Plot seasonal Eady Growth rate values.\"\"\"\n",
    "        try:\n",
    "            levels = self.cfg['plot_levels']\n",
    "        except KeyError:\n",
    "            logger.info(\"Parameter plot_levels is not set in the recipe.\"\n",
    "                        \"Plotting all pressure levels instead.\")\n",
    "            levels = egr.coord('air_pressure').points\n",
    "        for level in levels:\n",
    "            cube = extract_levels(egr, level, scheme='linear')\n",
    "            crs_latlon = ccrs.PlateCarree()\n",
    "            axes = plt.axes(projection=ccrs.PlateCarree())\n",
    "            axes.coastlines(linewidth=1, color='black')\n",
    "            # North Atlantic\n",
    "            axes.set_extent((-90.0, 30.0, 20.0, 80.0), crs=crs_latlon)\n",
    "            axes.set_yticks(np.linspace(25, 75, 6))\n",
    "            qplt.contourf(cube, levels=np.arange(0, 1.1, 0.05))\n",
    "            extension = self.cfg['output_file_type']\n",
    "            diagnostic = self.cfg['script']\n",
    "            plotname = f'{diagnostic}_{str(int(level))}.{extension}'\n",
    "            plt.savefig(os.path.join(self.cfg[names.PLOT_DIR], plotname))\n",
    "            plt.close()\n",
    "\n",
    "    def save(self, egr):\n",
    "            \"\"\"Save results.\"\"\"\n",
    "            output_name = 'eady_growth_rate.nc'\n",
    "            output_file = os.path.join(self.cfg[names.WORK_DIR], output_name)\n",
    "            iris.save(egr, output_file)\n",
    "\n",
    "def main(cfg):\n",
    "    \"\"\"Run Eady Growth Rate diagnostic.\"\"\"\n",
    "    EadyGrowthRate(cfg).compute()"
   ]
  },
  {
   "cell_type": "code",
   "execution_count": 7,
   "id": "3d7bbd73-3a5c-47a8-8ac9-f4cc5ce4ff50",
   "metadata": {
    "execution": {
     "iopub.execute_input": "2023-11-26T08:39:34.500576Z",
     "iopub.status.busy": "2023-11-26T08:39:34.500026Z",
     "iopub.status.idle": "2023-11-26T08:39:34.506656Z",
     "shell.execute_reply": "2023-11-26T08:39:34.505725Z",
     "shell.execute_reply.started": "2023-11-26T08:39:34.500536Z"
    }
   },
   "outputs": [],
   "source": [
    "import subprocess\n",
    "def command(cmd):\n",
    "    # Pythonでシェルコマンドを動かし、結果を取得する関数\n",
    "    # 参考 : https://qiita.com/inatatsu_csg/items/40b11701d256a84a0510 \n",
    "    process = (subprocess.Popen(cmd, stdout=subprocess.PIPE, shell=True).communicate()[0]).decode('utf-8')[:-1]#.split(\"\\n\")\n",
    "    return process"
   ]
  },
  {
   "cell_type": "code",
   "execution_count": 8,
   "id": "07481360-9c7e-4dbd-a42d-0d799b758a9a",
   "metadata": {
    "execution": {
     "iopub.execute_input": "2023-11-26T08:39:35.010580Z",
     "iopub.status.busy": "2023-11-26T08:39:35.010045Z",
     "iopub.status.idle": "2023-11-26T08:39:35.015561Z",
     "shell.execute_reply": "2023-11-26T08:39:35.014597Z",
     "shell.execute_reply.started": "2023-11-26T08:39:35.010540Z"
    }
   },
   "outputs": [],
   "source": [
    "exp_list = [\"LGM.miroc_glomapice_anomtopo_t42.20230831\", \"LGM.miroc_anomtopo_t42.20230831\",\"LGM.glomap_anomtopo_t42.20230831\"]\n"
   ]
  },
  {
   "cell_type": "code",
   "execution_count": 9,
   "id": "07874060-62e1-4547-b109-9cb25c8514ee",
   "metadata": {
    "execution": {
     "iopub.execute_input": "2023-11-26T08:39:35.518195Z",
     "iopub.status.busy": "2023-11-26T08:39:35.517668Z",
     "iopub.status.idle": "2023-11-26T08:39:44.009278Z",
     "shell.execute_reply": "2023-11-26T08:39:44.008333Z",
     "shell.execute_reply.started": "2023-11-26T08:39:35.518155Z"
    }
   },
   "outputs": [
    {
     "name": "stderr",
     "output_type": "stream",
     "text": [
      "/home/kanon/.pyenv/versions/mambaforge-22.9.0-0/envs/py2023/lib/python3.11/site-packages/iris/coords.py:2237: UserWarning: Cannot check if coordinate is contiguous: Invalid operation for 'year', with 0 bound(s). Contiguous bounds are only defined for 1D coordinates with 2 bounds. Metadata may not be fully descriptive for 'year'. Ignoring bounds.\n",
      "  warnings.warn(msg.format(str(exc), self.name()))\n"
     ]
    }
   ],
   "source": [
    "#for expname in exp_list:\n",
    "for expname in [\"LGM.glomap_anomtopo_t42.20230831\"]:\n",
    "    dir = f'/data44/kanon/kino2023grl/{expname}'\n",
    "    for var in [\"T\",\"z\",\"u\"]:\n",
    "        if not os.path.exists(f'{dir}/cat/{var}.nc'):\n",
    "            print(f'ngtcf {dir}/cat/{var} {dir}/cat/{var}.nc')\n",
    "        \n",
    "    cfg = {\n",
    "        'input_dir': f'{dir}/cat',\n",
    "        'time_statistic': 'annual_mean',  # 'annual_mean' か 'seasonal_mean'\n",
    "        'plot_levels': [85000, 50000],  # 描画する気圧レベルのリスト\n",
    "        'output_file_type': 'png',  # 出力ファイルの種類（例：'png', 'pdf'）\n",
    "        'script': 'eady_growth_rate',  # スクリプト名\n",
    "        'plot_dir': '/data44/kanon/kino2023grl/pic',  # プロットを保存するディレクトリ\n",
    "        'work_dir': f'{dir}/clm/ann'  # 出力データを保存するディレクトリ\n",
    "    }\n",
    "\n",
    "    main(cfg)"
   ]
  },
  {
   "cell_type": "code",
   "execution_count": 15,
   "id": "70f64b37-3976-477c-a643-9a42d53199a5",
   "metadata": {
    "execution": {
     "iopub.execute_input": "2023-11-26T09:20:25.877129Z",
     "iopub.status.busy": "2023-11-26T09:20:25.876477Z",
     "iopub.status.idle": "2023-11-26T09:20:25.884419Z",
     "shell.execute_reply": "2023-11-26T09:20:25.883315Z",
     "shell.execute_reply.started": "2023-11-26T09:20:25.877082Z"
    }
   },
   "outputs": [
    {
     "name": "stdout",
     "output_type": "stream",
     "text": [
      "cdo sellevel,850 /data44/kanon/kino2023grl/LGM.miroc_glomapice_anomtopo_t42.20230831/clm/ann/eady_growth_rate.nc /data44/kanon/kino2023grl/LGM.miroc_glomapice_anomtopo_t42.20230831/clm/ann/egr850.nc\n",
      "cdo sellevel,850 /data44/kanon/kino2023grl/LGM.miroc_anomtopo_t42.20230831/clm/ann/eady_growth_rate.nc /data44/kanon/kino2023grl/LGM.miroc_anomtopo_t42.20230831/clm/ann/egr850.nc\n",
      "cdo sellevel,850 /data44/kanon/kino2023grl/LGM.glomap_anomtopo_t42.20230831/clm/ann/eady_growth_rate.nc /data44/kanon/kino2023grl/LGM.glomap_anomtopo_t42.20230831/clm/ann/egr850.nc\n"
     ]
    }
   ],
   "source": [
    "dir = f'/data44/kanon/kino2023grl'\n",
    "for expname in exp_list:\n",
    "    file = f'{dir}/{expname}/clm/ann/eady_growth_rate'\n",
    "    print(f'cdo sellevel,850 {dir}/{expname}/clm/ann/eady_growth_rate.nc {dir}/{expname}/clm/ann/egr850.nc')"
   ]
  },
  {
   "cell_type": "code",
   "execution_count": null,
   "id": "4f7fd2be-c000-4d45-a2f9-aad71bc171b1",
   "metadata": {},
   "outputs": [],
   "source": [
    "ngted -e aitm3:c\"STDPL18\" egr"
   ]
  },
  {
   "cell_type": "code",
   "execution_count": 82,
   "id": "09391b0d-bbb2-4a7b-bd09-e567b7fd6e4c",
   "metadata": {
    "execution": {
     "iopub.execute_input": "2023-11-26T08:36:09.851535Z",
     "iopub.status.busy": "2023-11-26T08:36:09.850855Z",
     "iopub.status.idle": "2023-11-26T08:36:10.750274Z",
     "shell.execute_reply": "2023-11-26T08:36:10.748804Z",
     "shell.execute_reply.started": "2023-11-26T08:36:09.851484Z"
    }
   },
   "outputs": [
    {
     "name": "stdout",
     "output_type": "stream",
     "text": [
      "ncgt: /data44/kanon/kino2023grl/LGM.glomap_anomtopo_t42.20230831/LGM.miroc_glomapice_anomtopo_t42.20230831/clm/ann/eady_growth_rate.nc: No such file or directory\n",
      "ncgt: /data44/kanon/kino2023grl/LGM.glomap_anomtopo_t42.20230831/LGM.miroc_anomtopo_t42.20230831/clm/ann/eady_growth_rate.nc: No such file or directory\n",
      "ncgt: /data44/kanon/kino2023grl/LGM.glomap_anomtopo_t42.20230831/LGM.glomap_anomtopo_t42.20230831/clm/ann/eady_growth_rate.nc: No such file or directory\n"
     ]
    }
   ],
   "source": [
    "!/home/acauquoin/local/bin/ncgt -v egr /data44/kanon/kino2023grl/LGM.glomap_anomtopo_t42.20230831/LGM.miroc_glomapice_anomtopo_t42.20230831/clm/ann/eady_growth_rate.nc /data44/kanon/kino2023grl/LGM.glomap_anomtopo_t42.20230831/LGM.miroc_glomapice_anomtopo_t42.20230831/clm/ann/egr\n",
    "!/home/acauquoin/local/bin/ncgt -v egr /data44/kanon/kino2023grl/LGM.glomap_anomtopo_t42.20230831/LGM.miroc_anomtopo_t42.20230831/clm/ann/eady_growth_rate.nc /data44/kanon/kino2023grl/LGM.glomap_anomtopo_t42.20230831/LGM.miroc_anomtopo_t42.20230831/clm/ann/egr\n",
    "!/home/acauquoin/local/bin/ncgt -v egr /data44/kanon/kino2023grl/LGM.glomap_anomtopo_t42.20230831/LGM.glomap_anomtopo_t42.20230831/clm/ann/eady_growth_rate.nc /data44/kanon/kino2023grl/LGM.glomap_anomtopo_t42.20230831/LGM.glomap_anomtopo_t42.20230831/clm/ann/egr"
   ]
  },
  {
   "cell_type": "code",
   "execution_count": null,
   "id": "39ec1f68-90ba-40f1-aea4-cd389eb16c70",
   "metadata": {},
   "outputs": [],
   "source": []
  }
 ],
 "metadata": {
  "kernelspec": {
   "display_name": "Python 3 (ipykernel)",
   "language": "python",
   "name": "python3"
  },
  "language_info": {
   "codemirror_mode": {
    "name": "ipython",
    "version": 3
   },
   "file_extension": ".py",
   "mimetype": "text/x-python",
   "name": "python",
   "nbconvert_exporter": "python",
   "pygments_lexer": "ipython3",
   "version": "3.11.6"
  },
  "widgets": {
   "application/vnd.jupyter.widget-state+json": {
    "state": {},
    "version_major": 2,
    "version_minor": 0
   }
  }
 },
 "nbformat": 4,
 "nbformat_minor": 5
}
